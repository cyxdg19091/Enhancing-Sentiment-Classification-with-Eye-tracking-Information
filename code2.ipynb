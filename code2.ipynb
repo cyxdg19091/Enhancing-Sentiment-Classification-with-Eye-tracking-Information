{
 "cells": [
  {
   "cell_type": "code",
   "execution_count": 34,
   "id": "37d87f3e",
   "metadata": {},
   "outputs": [
    {
     "data": {
      "text/plain": [
       "['Presents a good case while failing to provide a reason for us to care beyond the very basic dictums of human decency.',\n",
       " 'Beautifully crafted, engaging filmmaking that should attract upscale audiences hungry for quality and a nostalgic, twisty yarn that will keep them guessing.',\n",
       " 'Bread, My Sweet has so many flaws it would be easy for critics to shred it.',\n",
       " 'Slow, silly and unintentionally hilarious.',\n",
       " 'Ultimately feels empty and unsatisfying, like swallowing a Communion wafer without the wine.']"
      ]
     },
     "execution_count": 34,
     "metadata": {},
     "output_type": "execute_result"
    }
   ],
   "source": [
    "import pandas as pd\n",
    "\n",
    "def extract_text_from_csv(csv_file_path, start_column, end_column):\n",
    "    df = pd.read_csv(csv_file_path)\n",
    "    selected_columns = df.iloc[:, start_column-1:end_column]\n",
    "    text_list = selected_columns.values.flatten().tolist()\n",
    "\n",
    "    return text_list\n",
    "\n",
    "csv_file_path = '/Users/caiyuanxiaodangao/Desktop/CENLP_final/output.csv'\n",
    "start_column = 2  \n",
    "end_column = 401  \n",
    "\n",
    "text_list = extract_text_from_csv(csv_file_path, start_column, end_column)\n",
    "\n",
    "labels = text_list[::2]\n",
    "\n",
    "sentence_list = text_list[1::2]\n",
    "\n",
    "sentence_list[:5]"
   ]
  },
  {
   "cell_type": "code",
   "execution_count": 35,
   "id": "f7a24c69",
   "metadata": {},
   "outputs": [
    {
     "name": "stderr",
     "output_type": "stream",
     "text": [
      "Some weights of the model checkpoint at bert-base-uncased were not used when initializing BertModel: ['cls.predictions.bias', 'cls.predictions.transform.LayerNorm.weight', 'cls.predictions.transform.dense.bias', 'cls.seq_relationship.bias', 'cls.seq_relationship.weight', 'cls.predictions.transform.LayerNorm.bias', 'cls.predictions.transform.dense.weight']\n",
      "- This IS expected if you are initializing BertModel from the checkpoint of a model trained on another task or with another architecture (e.g. initializing a BertForSequenceClassification model from a BertForPreTraining model).\n",
      "- This IS NOT expected if you are initializing BertModel from the checkpoint of a model that you expect to be exactly identical (initializing a BertForSequenceClassification model from a BertForSequenceClassification model).\n"
     ]
    }
   ],
   "source": [
    "import torch\n",
    "import torch.nn as nn\n",
    "import numpy as np\n",
    "from transformers import BertTokenizer, BertForSequenceClassification, BertTokenizerFast, BertModel\n",
    "\n",
    "model_name = 'bert-base-uncased'\n",
    "tokenizer = BertTokenizerFast.from_pretrained(model_name)\n",
    "model = BertModel.from_pretrained(model_name)\n",
    "embedding_layer = model.embeddings.word_embeddings\n"
   ]
  },
  {
   "cell_type": "code",
   "execution_count": 36,
   "id": "c96ec7a4",
   "metadata": {},
   "outputs": [
    {
     "name": "stdout",
     "output_type": "stream",
     "text": [
      "['[CLS] Presents a good case while failing to provide a reason for us to care beyond the very basic dictums of human decency. [SEP]', '[CLS] Beautifully crafted, engaging filmmaking that should attract upscale audiences hungry for quality and a nostalgic, twisty yarn that will keep them guessing. [SEP]', '[CLS] Bread, My Sweet has so many flaws it would be easy for critics to shred it. [SEP]', '[CLS] Slow, silly and unintentionally hilarious. [SEP]', '[CLS] Ultimately feels empty and unsatisfying, like swallowing a Communion wafer without the wine. [SEP]', '[CLS] Exudes the fizz of a Busby Berkeley musical and the visceral excitement of a sports extravaganza. [SEP]', \"[CLS] The film rehashes several old themes and is capped with pointless extremes -- it's insanely violent and very graphic. [SEP]\", '[CLS] Ryan Gosling is, in a word, brilliant as the conflicted Daniel. [SEP]', \"[CLS] If Deuces Wild had been tweaked up a notch it would have become a camp adventure, one of those movies that's so bad it starts to become good. [SEP]\", \"[CLS] The film's stagecrafts are intimate and therefore bolder than the otherwise calculated artifice that defines and overwhelms the film's production design. [SEP]\", '[CLS] Frida is certainly no disaster, but neither is it the Kahlo movie Frida fans have been looking for. [SEP]', '[CLS] The film often achieves a mesmerizing poetry. [SEP]', '[CLS] A work of astonishing delicacy and force. [SEP]', \"[CLS] The movie's plot is almost entirely witless and inane, carrying every gag two or three times beyond its limit to sustain a laugh. [SEP]\", '[CLS] For the most part, the ingredients are there. [SEP]', \"[CLS] But if you've paid a matinee price and bought a big tub of popcorn, there's guilty fun to be had here. [SEP]\", \"[CLS] There's not much to Fatale, outside of its stylish surprises... but that's OK. [SEP]\", \"[CLS] The acting is stiff, the story lacks all trace of wit, the sets look like they were borrowed from Gilligan's Island -- and the CGI Scooby might well be the worst special-effects creation of the year. [SEP]\", \"[CLS] This version moves beyond the original's nostalgia for the communal film experiences of yesteryear to a deeper realization of cinema's inability to stand in for true, lived experience. [SEP]\", \"[CLS] There's no palpable chemistry between Lopez and male lead Ralph Fiennes, plus the script by Working Girl scribe Kevin Wade is workmanlike in the extreme. [SEP]\", '[CLS] A first-class, thoroughly involving B movie that effectively combines two surefire, beloved genres -- the prison flick and the fight film. [SEP]', \"[CLS] The film is so bad it doesn't improve upon the experience of staring at a blank screen. [SEP]\", '[CLS] Weiss and Speck never make a convincing case for the relevance of these two 20th-century footnotes. [SEP]', '[CLS] Another Best of the Year selection. [SEP]', \"[CLS] It's all a rather shapeless good time... [SEP]\", '[CLS] Same song, second verse, coulda been better, but it coulda been worse. [SEP]', '[CLS] I love the robust middle of this picture. [SEP]', \"[CLS] That's not vintage Spielberg and that, finally, is minimally satisfying. [SEP]\", '[CLS] The soundtrack alone is worth the price of admission. [SEP]', \"[CLS] Mostly Martha could have used a little trimming -- 10 or 15 minutes could be cut and no one would notice -- but it's a pleasurable trifle. [SEP]\", \"[CLS] For the rest of us, sitting through Dahmer's two hours amounts to little more than punishment. [SEP]\", \"[CLS] Featuring a dangerously seductive performance from the great Daniel Auteuil, ``Sade'' covers the same period as Kaufmann's ``Quills'' with more unsettlingly realistic results. [SEP]\", \"[CLS] The movie is for fans who can't stop loving anime, and the fanatical excess built into it. [SEP]\", \"[CLS] The Ring is worth a look, if you don't demand much more than a few cheap thrills from your Halloween entertainment. [SEP]\", '[CLS] Beautifully observed, miraculously unsentimental comedy-drama. [SEP]', \"[CLS] What makes How I Killed My Father compelling, besides its terrific performances, is Fontaine's willingness to wander into the dark areas of parent-child relationships without flinching. [SEP]\", \"[CLS] This hastily mounted production exists only to capitalize on Hopkins' inclination to play Hannibal Lecter again, even though Harris has no immediate inclination to provide a fourth book. [SEP]\", \"[CLS] Bullock's complete lack of focus and ability quickly derails the film.1 [SEP]\", \"[CLS] ... a plotline that's as lumpy as two-day old porridge... the filmmakers' paws, sad to say, were all over this ``un-bear-able'' project! [SEP]\", '[CLS] Crush could be the worst film a man has made about women since Valley of the Dolls. [SEP]', '[CLS] Reassuring, retro uplifter. [SEP]', '[CLS] Flaccid drama and exasperatingly slow journey. [SEP]', '[CLS] The Movie will reach far beyond its core demographic. [SEP]', '[CLS] How did it ever get made? [SEP]', '[CLS] I like the new footage and still love the old stuff. [SEP]', '[CLS] It briefly flirts with player masochism, but the point of real interest -- audience sadism -- is evaded completely. [SEP]', '[CLS] Could The Country Bears really be as bad as its trailers? [SEP]', '[CLS] At times, the movie looks genuinely pretty. [SEP]', '[CLS] It depends on how well flatulence gags fit into your holiday concept. [SEP]', \"[CLS] The stupidest, most insulting movie of 2002's first quarter. [SEP]\", '[CLS] The film seems a dead weight. [SEP]', \"[CLS] Sparkling, often hilarious romantic jealousy comedy... Attal looks so much like a young Robert DeNiro that it seems the film should instead be called `My Husband Is Travis Bickle'. [SEP]\", '[CLS] I did go back and check out the last 10 minutes, but these were more repulsive than the first 30 or 40 minutes. [SEP]', \"[CLS] A lousy movie that's not merely unwatchable, but also unlistenable. [SEP]\", '[CLS] One of the best films of the year with its exploration of the obstacles to happiness faced by five contemporary individuals... a psychological masterpiece. [SEP]', '[CLS] A strong script, powerful direction and splendid production design allows us to be transported into the life of Wladyslaw Szpilman, who is not only a pianist, but a good human being. [SEP]', \"[CLS] But here's the real damn: It isn't funny, either. [SEP]\", '[CLS] Qutting may be a flawed film, but it is nothing if not sincere. [SEP]', \"[CLS] It's a fanboy `what if?' [SEP]\", '[CLS] ... something appears to have been lost in the translation this time. [SEP]', '[CLS] Like a documentary version of Fight Club, shorn of social insight, intellectual pretension and cinematic interest. [SEP]', \"[CLS] Stephen Rea, Aidan Quinn, and Alan Bates play Desmond's legal eagles, and when joined by Brosnan, the sight of this grandiloquent quartet lolling in pretty Irish settings is a pleasant enough thing, `tis. [SEP]\", \"[CLS] It's a powerful though flawed movie, guaranteed to put a lump in your throat while reaffirming Washington as possibly the best actor working in movies today. [SEP]\", '[CLS] An intriguing and entertaining introduction to Johnson. [SEP]', '[CLS] Everything was as superficial as the forced New Jersey lowbrow accent Uma had. [SEP]', '[CLS] Despite the holes in the story and the somewhat predictable plot, moments of the movie caused me to jump in my chair... [SEP]', \"[CLS] `How many more voyages can this limping but dearly-loved franchise survive?' [SEP]\", '[CLS] If only the story about a multi-million dollar con bothered to include the con. [SEP]', '[CLS] It is supremely unfunny and unentertaining to watch middle-age and older men drink to excess, piss on trees, b.s. one another and put on a show in drag. [SEP]', '[CLS] Only a few minutes elapse before the daddy of all slashers arrives, still with the boiler suit and white mask, which look remarkably clean for a guy who has been mass-murdering since 1978 but has never been seen doing laundry. [SEP]', \"[CLS] Showtime is one of the hapless victims of the arrogant ``if we put together a wry white man and a chatty black man and give them guns, the movie will be funny'' syndrome. [SEP]\", '[CLS] Whatever heartwarming scene the impressively discreet filmmakers may have expected to record with their mini DV, they show a remarkable ability to document both sides of this emotional car-wreck. [SEP]', '[CLS] A zombie movie in every sense of the word -- mindless, lifeless, meandering, loud, painful, obnoxious. [SEP]', '[CLS] It has fun with the quirks of family life, but it also treats the subject with fondness and respect. [SEP]', '[CLS] Novak manages to capture a cruelly hilarious vein of black comedy in the situation with his cast of non-actors and a gritty, no-budget approach. [SEP]', '[CLS] Since Lee is a sentimentalist, the film is more worshipful than your random E! [SEP]', '[CLS] The movie is almost completely lacking in suspense, surprise and consistent emotional conviction. [SEP]', '[CLS] High Crimes knows the mistakes that bad movies make and is determined not to make them, and maybe that is nobility of a sort. [SEP]', \"[CLS] But it's too long and too convoluted and it ends in a muddle. [SEP]\", '[CLS] This thing works on no level whatsoever for me. [SEP]', '[CLS] ... a bland murder-on-campus yawner. [SEP]', '[CLS] \"In comparison to his earlier films it seems a disappointingly thin slice of lower-class London life despite the title... amounts to surprisingly little.\" [SEP]', '[CLS] One of the finest, most humane and important Holocaust movies ever made. [SEP]', '[CLS] Suffers from rambling, repetitive dialogue and the visual drabness endemic to digital video. [SEP]', '[CLS] The twist that ends the movie is the one with the most emotional resonance, but twists are getting irritating, and this is the kind of material where the filmmakers should be very careful about raising eyebrows. [SEP]', '[CLS] Angel presents events partly from the perspective of Aurelie and Christelle, and infuses the film with the sensibility of a particularly nightmarish fairytale. [SEP]', '[CLS] Features one of the most affecting depictions of a love affair ever committed to film. [SEP]', '[CLS] It is intensely personal and yet -- unlike Quills -- deftly shows us the temper of the times. [SEP]', '[CLS] Even as I valiantly struggled to remain interested, or at least conscious, I could feel my eyelids... getting... very... heavy... [SEP]', '[CLS] ... a solid, well-formed satire. [SEP]', '[CLS] Deserves high marks for political courage but barely gets by on its artistic merits. [SEP]', '[CLS] Read My Lips is to be viewed and treasured for its extraordinary intelligence and originality as well as its lyrical variations on the game of love. [SEP]', \"[CLS] ... creates a visceral sense of its characters' lives and conflicted emotions that carries it far above... what could have been a melodramatic, Lifetime Channel-style anthology. [SEP]\", '[CLS] Reeks of rot and hack work from start to finish. [SEP]', '[CLS] Just how these families interact may surprise you. [SEP]', \"[CLS] The Movie is what happens when you blow up small potatoes to 10 times their natural size, and it ain't pretty. [SEP]\", '[CLS] Even a hardened voyeur would require the patience of Job to get through this interminable, shapeless documentary about the swinging subculture. [SEP]', '[CLS] Creepy, authentic and dark. [SEP]', '[CLS] A lame romantic comedy about an unsympathetic character and someone who would not likely be so stupid as to get involved with her. [SEP]', \"[CLS] Rob Schneider's infantile cross-dressing routines fill The Hot Chick, the latest gimmick from this unimaginative comedian. [SEP]\", \"[CLS] The film is a contrivance, as artificial as the video games Japanese teens play in a nightclub sequence, but it's an enjoyable one. [SEP]\", \"[CLS] At its worst the screenplay is callow, but at its best it is a young artist's thoughtful consideration of fatherhood. [SEP]\", '[CLS] At 78 minutes it just zings along with vibrance and warmth. [SEP]', \"[CLS] Only an epic documentary could get it all down, and Spike Lee's Jim Brown: All American at long last gives its subject a movie worthy of his talents. [SEP]\", '[CLS] As quiet, patient and tenacious as Mr. Lopez himself, who approaches his difficult, endless work with remarkable serenity and discipline. [SEP]', '[CLS] Instead of hiding Pinocchio from critics, Miramax should have hidden it from everyone. [SEP]', '[CLS] What a great shame that such a talented director as Chen Kaige has chosen to make his English-language debut with a film so poorly plotted and scripted. [SEP]', '[CLS] Jeffs has created a breathtakingly assured and stylish work of spare dialogue and acute expressiveness. [SEP]', '[CLS] Just about the best straight-up, old-school horror film of the last 15 years. [SEP]', '[CLS] Gosling creates a staggeringly compelling character, a young man whose sharp intellect is at the very root of his contradictory, self-hating, self-destructive ways. [SEP]', \"[CLS] I thought the relationships were wonderful, the comedy was funny, and the love `real'. [SEP]\", '[CLS] Better at putting you to sleep than a sound machine. [SEP]', '[CLS] Feels less like a cousin to Blade Runner than like a bottom-feeder sequel in the Escape From New York series. [SEP]', '[CLS] Elegantly produced and expressively performed, the six musical numbers crystallize key plot moments into minutely detailed wonders of dreamlike ecstasy. [SEP]', '[CLS] Ultimate X is a ride, basically the kind of greatest-hits reel that might come with a subscription to ESPN the Magazine. [SEP]', \"[CLS] Celebrated at Sundance, this slight comedy of manners has winning performances and a glossy, glib charm that's hard to beat. [SEP]\", \"[CLS] Apparently, romantic comedy with a fresh point of view just doesn't figure in the present Hollywood program. [SEP]\", '[CLS] That Haynes can both maintain and dismantle the facades that his genre and his character construct is a wonderous accomplishment of veracity and narrative grace. [SEP]', '[CLS] Some elements of it really blow the big one, but other parts are decent. [SEP]', '[CLS] No French people were harmed during the making of this movie, but they were insulted and the audience was put through torture for an hour and a half. [SEP]', '[CLS] I was feeling this movie until it veered off too far into the Exxon zone, and left me behind at the station looking for a return ticket to realism. [SEP]', '[CLS] The simplicity of The Way Home has few equals this side of Aesop. [SEP]', '[CLS] Exceptionally well acted by Diane Lane and Richard Gere. [SEP]', '[CLS] Dong shows how intolerance has the power to deform families, then tear them apart. [SEP]', '[CLS] A stupid, derivative horror film that substitutes extreme gore for suspense. [SEP]', \"[CLS] It's a great American adventure and a wonderful film to bring to IMAX. [SEP]\", \"[CLS] It's 51 times better than this. [SEP]\", \"[CLS] It's like an old Warner Bros. costumer jived with sex -- this could be the movie Errol Flynn always wanted to make, though Bette Davis, cast as Joan, would have killed him. [SEP]\", \"[CLS] A miraculous movie, I'm Going Home is so slight, yet overflows with wisdom and emotion. [SEP]\", '[CLS] A fiercely clever and subtle film, capturing the precarious balance between the extravagant confidence of the exiled aristocracy and the cruel earnestness of the victorious revolutionaries. [SEP]', \"[CLS] It's as if you're watching a movie that was made in 1978 but not released then because it was so weak, and it has been unearthed and released now, when it has become even weaker. [SEP]\", '[CLS] Anemic chronicle of money grubbing New Yorkers and their serial loveless hook ups. [SEP]', '[CLS] Thanks to a small star with big heart, this family film sequel is plenty of fun for all. [SEP]', \"[CLS] And I've decided to leave a light on every night from now on. [SEP]\", \"[CLS] Festers in just such a dungpile that you'd swear you were watching monkeys flinging their feces at you. [SEP]\", '[CLS] under-rehearsed and lifeless [SEP]', \"[CLS] Exactly what you'd expect from a guy named Kaos. [SEP]\", \"[CLS] If legendary shlockmeister Ed Wood had ever made a movie about a vampire, it probably would look a lot like this alarming production, adapted from Anne Rice's novel The Vampire Chronicles. [SEP]\", '[CLS] For those for whom the name Woody Allen was once a guarantee of something fresh, sometimes funny, and usually genuinely worthwhile, Hollywood Ending is a depressing experience. [SEP]', '[CLS] Bella is the picture of health with boundless energy until a few days before she dies. [SEP]', '[CLS] The fun of the movie is the chance it affords to watch Jackson, who also served as executive producer, take his smooth, shrewd, powerful act abroad. [SEP]', \"[CLS] What should have been a cutting Hollywood satire is instead about as fresh as last week's issue of Variety. [SEP]\", '[CLS] Cox offers plenty of glimpses at existing photos, but there are no movies of Nijinsky, so instead the director treats us to an aimless hodgepodge. [SEP]', '[CLS] Aaliyah rarely dampens her diva persona enough to spark genuine chemistry with Townsend. [SEP]', \"[CLS] Mr. Soderbergh's direction and visual style struck me as unusually and unimpressively fussy and pretentious. [SEP]\", \"[CLS] Mazel tov to a film about a family's joyous life acting on the Yiddish stage. [SEP]\", \"[CLS] ... would be a total loss if not for two supporting performances taking place at the movie's edges. [SEP]\", '[CLS] An inspiring and heart-affecting film about the desperate attempts of Vietnamese refugees living in U.S. relocation camps to keep their hopes alive in 1975. [SEP]', '[CLS] Loud, chaotic and largely unfunny. [SEP]', '[CLS] The immersive powers of the giant screen and its hyper-realistic images are put to perfect use in the breathtakingly beautiful outer-space documentary Space Station 3D. [SEP]', \"[CLS] It's everything you don't go to the movies for. [SEP]\", '[CLS] Harris is supposed to be the star of the story, but comes across as pretty dull and wooden. [SEP]', \"[CLS] Allen's funniest and most likeable movie in years. [SEP]\", '[CLS] For those who pride themselves on sophisticated, discerning taste, this might not seem like the proper cup of tea, however it is almost guaranteed that even the stuffiest cinema goers will laugh their 1*** off for an hour-and-a-half. [SEP]', '[CLS] There is a refreshing absence of cynicism in Stuart Little 2 -- quite a rarity, even in the family film market. [SEP]', '[CLS] There are plot holes big enough for Shamu the killer whale to swim through. [SEP]', '[CLS] ... always remains movingly genuine. [SEP]', '[CLS] Stitch is a bad mannered, ugly and destructive little ****. [SEP]', '[CLS] The cast is top-notch and I predict there will be plenty of female audience members drooling over Michael Idemoto as Michael. [SEP]', '[CLS] Kirshner and Monroe seem to be in a contest to see who can out-bad-act the other. [SEP]', \"[CLS] This is one of those war movies that focuses on human interaction rather than battle and action sequences... and it's all the stronger because of it. [SEP]\", '[CLS] Like life on the island, the movie grows boring despite the scenery. [SEP]', \"[CLS] It's anchored by splendid performances from an honored screen veteran and a sparkling newcomer who instantly transform themselves into a believable mother/daughter pair. [SEP]\", '[CLS] An atonal estrogen opera that demonizes feminism while gifting the most sympathetic male of the piece with a nice vomit bath at his wedding. [SEP]', '[CLS] Even by the intentionally low standards of frat-boy humor, Sorority Boys is a bowser. [SEP]', '[CLS] Director of photography Benoit Delhomme shot the movie in delicious colors, and the costumes and sets are grand. [SEP]', \"[CLS] The only entertainment you'll derive from this choppy and sloppy affair will be from unintentional giggles -- several of them. [SEP]\", '[CLS] The film serves as a valuable time capsule to remind us of the devastating horror suffered by an entire people. [SEP]', \"[CLS] A bittersweet contemporary comedy about benevolent deception, which, while it may not rival the filmmaker's period pieces, is still very much worth seeing. [SEP]\", '[CLS] Attal pushes too hard to make this a comedy or serious drama. [SEP]', \"[CLS] Isabelle Huppert excels as the enigmatic Mika and Anna Mouglalis is a stunning new young talent in one of Chabrol's most intense psychological mysteries. [SEP]\", '[CLS] A small movie with a big impact. [SEP]', '[CLS] This bold and lyrical first feature from Raja Amari expands the pat notion that middle-aged women just wanna have fun into a rousing treatise of sensual empowerment. [SEP]', '[CLS] Photographed with melancholy richness and eloquently performed yet also decidedly uncinematic. [SEP]', '[CLS] Hey Arnold! is now stretched to barely feature length, with a little more attention paid to the animation. [SEP]', '[CLS] After that, it just gets stupid and maudlin. [SEP]', '[CLS] The stunning, dreamlike visuals will impress even those viewers who have little patience for Euro-film pretension. [SEP]', '[CLS] Plods along, minus the twisted humor and eye-popping visuals that have made Miike... a cult hero. [SEP]', \"[CLS] Impresses as a skillfully assembled, highly polished and professional adaptation... just about as chilling and unsettling as `Manhunter' was. [SEP]\", \"[CLS] For the most part, it's a work of incendiary genius, steering clear of knee-jerk reactions and quick solutions. [SEP]\", \"[CLS] It's badly acted, blandly directed, and could have been scripted by someone who just graduated from elementary school. [SEP]\", '[CLS] The sort of picture in which, whenever one of the characters has some serious soul searching to do, they go to a picture-perfect beach during sunset. [SEP]', '[CLS] Despite its raucous intent, XXX is as conventional as a Nike ad and as rebellious as spring break. [SEP]', '[CLS] ... a roller-coaster ride of a movie [SEP]', '[CLS] A colorful, vibrant introduction to a universal human impulse, lushly photographed and beautifully recorded. [SEP]', '[CLS] Audiard successfully maintains suspense on different levels throughout a film that is both gripping and compelling. [SEP]', '[CLS] \"Even horror fans will most likely not find what they\\'re seeking with Trouble Every Day the movie lacks both thrills and humor.\" [SEP]', '[CLS] After that it becomes long and tedious like a classroom play in a college history course. [SEP]', '[CLS] This is cool, slick stuff, ready to quench the thirst of an audience that misses the summer blockbusters. [SEP]', '[CLS] Blade II has a brilliant director and charismatic star, but it suffers from rampant vampire devaluation. [SEP]', '[CLS] A loud, ugly, irritating movie without any of its satirical salvos hitting a discernible target. [SEP]', '[CLS] For VeggieTales fans, this is more appetizing than a side dish of asparagus. [SEP]', \"[CLS] While it regards 1967 as the key turning point of the 20th century, and returns again and again to images of dissidents in the streets, it's alarmingly current. [SEP]\", '[CLS] A truly wonderful tale combined with stunning animation. [SEP]', '[CLS] Nothing sticks, really, except a lingering creepiness one feels from being dragged through a sad, sordid universe of guns, drugs, avarice and damaged dreams. [SEP]', \"[CLS] ``Simone'' is a fun and funky look into an artificial creation in a world that thrives on artificiality. [SEP]\", \"[CLS] It's a hoot watching The Rock chomp on jumbo ants, pull an arrow out of his back, and leap unscathed through raging fire! [SEP]\", '[CLS] While Tattoo borrows heavily from both Seven and The Silence of the Lambs, it manages to maintain both a level of sophisticated intrigue and human-scale characters that suck the audience in. [SEP]', '[CLS] A portrait of an artist. [SEP]', '[CLS] As written by Michael Berg and Michael J. Wilson from a story by Wilson, this relentless, all-wise-guys-all-the-time approach tries way too hard and gets tiring in no time at all. [SEP]', \"[CLS] It's the best film of the year so far, the benchmark against which all other Best Picture contenders should be measured. [SEP]\", '[CLS] This is one of the biggest disappointments of the year. [SEP]', '[CLS] It never fails to engage us. [SEP]', '[CLS] Denis forges out of the theories of class - based rage and sisterly obsession a razor-sided tuning fork that rings with cultural, sexual and social discord. [SEP]', '[CLS] The movie slides downhill as soon as macho action conventions assert themselves. [SEP]', '[CLS] More romantic, more emotional and ultimately more satisfying than the teary-eyed original. [SEP]', \"[CLS] Like the best of Godard's movies... it is visually ravishing, penetrating, impenetrable. [SEP]\", '[CLS] The cumulative effect of the movie is repulsive and depressing. [SEP]', \"[CLS] Feels like nothing quite so much as a middle-aged moviemaker's attempt to surround himself with beautiful, half-naked women. [SEP]\", '[CLS] A very long movie, dull in stretches, with entirely too much focus on meal preparation and igloo construction. [SEP]', '[CLS] In XXX, Diesel is that rare creature -- an action hero with table manners, and one who proves that elegance is more than tattoo deep. [SEP]', \"[CLS] I'm not sure which will take longer to heal: the welt on Johnny Knoxville's stomach from a riot-control projectile or my own tortured psyche. [SEP]\", \"[CLS] While Serving Sara does have a long way to go before it reaches the level of crudity in the latest Austin Powers extravaganza, there's nothing here to match that movie's intermittent moments of inspiration. [SEP]\", \"[CLS] It's difficult to conceive of anyone who has reached puberty actually finding the characters in Slackers or their antics amusing, let alone funny. [SEP]\", '[CLS] It never is, not fully. [SEP]', \"[CLS] Not only is Undercover Brother as funny, if not more so, than both Austin Powers films, but it's also one of the smarter, savvier spoofs to come along in some time. [SEP]\", '[CLS] It should be mentioned that the set design and interiors of the haunted vessel are more than effectively creepy and moodily lit. [SEP]', \"[CLS] With the exception of some fleetingly amusing improvisations by Cedric the Entertainer as Perry's boss, there isn't a redeeming moment here. [SEP]\", \"[CLS] It's a funny little movie with clever dialogue and likeable characters. [SEP]\", \"[CLS] ``13 Conversations'' holds its goodwill close, but is relatively slow to come to the point. [SEP]\", '[CLS] Not the kind of film that will appeal to a mainstream American audience, but there is a certain charm about the film that makes it a suitable entry into the fest circuit. [SEP]', \"[CLS] You come away wishing, though, that the movie spent a lot less time trying to make a credible case for reports from the afterlife and a lot more time on the romantic urgency that's at the center of the story. [SEP]\", '[CLS] The movie is virtually without context -- journalistic or historical. [SEP]', '[CLS] After sitting through this sloppy, made-for-movie comedy special, it makes me wonder if Lawrence hates criticism so much that he refuses to evaluate his own work. [SEP]', \"[CLS] Genuinely touching because it's realistic about all kinds of love. [SEP]\", \"[CLS] For all the complications, it's all surprisingly predictable. [SEP]\", '[CLS] Armed with a game supporting cast, from the pitch-perfect Forster to the always hilarious Meara and Levy, Like Mike shoots and scores, doing its namesake proud. [SEP]', '[CLS] It will guarantee to have you leaving the theater with a smile on your face. [SEP]', '[CLS] The misery of these people becomes just another voyeuristic spectacle, to be consumed and forgotten. [SEP]', \"[CLS] A thoroughly awful movie -- dumb, narratively chaotic, visually sloppy... a weird amalgam of `The Thing' and a geriatric `Scream.' [SEP]\", '[CLS] One of those staggeringly well-produced, joylessly extravagant pictures that keep whooshing you from one visual marvel to the next, hastily, emptily. [SEP]', '[CLS] Measured against practically any like-themed film other than its Oscar-sweeping franchise predecessor The Silence of the Lambs, Red Dragon rates as an exceptional thriller. [SEP]', '[CLS] The movie has no respect for laws, political correctness or common decency, but it displays something more important: respect for its flawed, crazy people. [SEP]', '[CLS] In a strange way, Egoyan has done too much. [SEP]', \"[CLS] After seeing the film, I can tell you that there's no other reason why anyone should bother remembering it. [SEP]\", '[CLS] The film is darkly funny in its observation of just how much more grueling and time-consuming the illusion of work is than actual work. [SEP]', '[CLS] In some ways, Lagaan is quintessential Bollywood. [SEP]', '[CLS] Pacino and Williams seem to keep upping the ante on each other, just as their characters do in the film. [SEP]', '[CLS] It would be disingenuous to call Reno a great film, but you can say that about most of the flicks moving in and out of the multiplex. [SEP]', '[CLS] Some movies can get by without being funny simply by structuring the scenes as if they were jokes: a setup, delivery and payoff. [SEP]', '[CLS] Narc can only remind us of brilliant crime dramas without becoming one itself. [SEP]', '[CLS] Narc is a no-bull throwback to 1970s action films. [SEP]', '[CLS] Intriguing and downright intoxicating. [SEP]', '[CLS] The wonderful combination of the sweetness and the extraordinary technical accomplishments of the first film are maintained, but its overall impact falls a little flat with a storyline that never quite delivers the original magic. [SEP]', \"[CLS] Perhaps the most annoying thing about Who Is Cletis Tout? is that it's a crime movie made by someone who obviously knows nothing about crime. [SEP]\", '[CLS] In addition to scoring high for originality of plot -- putting together familiar themes of family, forgiveness and love in a new way -- Lilo & Stitch has a number of other assets to commend it to movie audiences both innocent and jaded. [SEP]', '[CLS] The quirky drama touches the heart and the funnybone thanks to the energetic and always surprising performance by Rachel Griffiths. [SEP]', '[CLS] At its worst, it implodes in a series of very bad special effects. [SEP]', '[CLS] Bad and baffling from the get-go. [SEP]', '[CLS] The movie is a blast of educational energy, as bouncy animation and catchy songs escort you through the entire 85 minutes. [SEP]', \"[CLS] The original wasn't a good movie but this remake makes it look like a masterpiece! [SEP]\", \"[CLS] To my taste, the film's comic characters come perilously close to being Amoses and Andys for a new generation. [SEP]\", \"[CLS] Although the sequel has all the outward elements of the original, the first film's lovely flakiness is gone, replaced by the forced funniness found in the dullest kiddie flicks. [SEP]\", '[CLS] The real charm of this trifle is the deadpan comic face of its star, Jean Reno, who resembles Sly Stallone in a hot sake half-sleep. [SEP]', '[CLS] ... a cute and sometimes side-splittingly funny blend of Legally Blonde and Drop Dead Gorgeous, starring Piper Perabo in what could be her breakthrough role. [SEP]', '[CLS] This method almost never fails him, and it works superbly here. [SEP]', '[CLS] Few films capture so perfectly the hopes and dreams of little boys on baseball fields as well as the grown men who sit in the stands. [SEP]', '[CLS] Steers has an unexpectedly adamant streak of warm-blooded empathy for all his disparate Manhattan denizens -- especially the a**holes. [SEP]', \"[CLS] The Emperor's Club is one of those films that possesses all the good intentions in the world, but... [SEP]\", '[CLS] The most compelling performance of the year adds substantial depth to this shocking testament to anti-Semitism and neo-fascism. [SEP]', \"[CLS] LaBute can't avoid a fatal mistake in the modern era: He's changed the male academic from a lower-class Brit to an American, a choice that upsets the novel's exquisite balance and shreds the fabric of the film. [SEP]\", \"[CLS] A biopic about Crane's life in the classic tradition but evolves into what has become of us all in the era of video. [SEP]\", '[CLS] A work of extraordinary journalism, but it is also a work of deft and subtle poetry. [SEP]', '[CLS] ... think of it as American Pie On Valium. [SEP]', \"[CLS] Gere gives a good performance in a film that doesn't merit it. [SEP]\", '[CLS] \"The movie is as far as you can get from racy, to the point where it almost stops the blood flow to your brain it has a dull, costumey feel.\" [SEP]', \"[CLS] The Pianist is Polanski's best film. [SEP]\", \"[CLS] Maybe Thomas Wolfe was right: You can't go home again. [SEP]\", '[CLS] The director, with his fake backdrops and stately pacing, never settles on a consistent tone. [SEP]', '[CLS] Why he was given free reign over this project -- he wrote, directed, starred and produced -- is beyond me. [SEP]', \"[CLS] If you enjoy being rewarded by a script that assumes you aren't very bright, then Blood Work is for you. [SEP]\", '[CLS] Like Rudy Yellow Lodge, Eyre needs to take a good sweat to clarify his cinematic vision before his next creation and remember the lessons of the trickster spider. [SEP]', '[CLS] But his showboating wise-cracker stock persona sure is getting old. [SEP]', \"[CLS] Circuit queens won't learn a thing, they'll be too busy cursing the film's strategically placed white sheets. [SEP]\", '[CLS] A lot of talent is wasted in this crass, low-wattage endeavor. [SEP]', \"[CLS] Alain Choquart's camera barely stops moving, portraying both the turmoil of the time and giving Conduct a perpetual sense of urgency, which, for a film that takes nearly three hours to unspool, is both funny and irritating. [SEP]\", '[CLS] The second coming of Harry Potter is a film far superior to its predecessor. [SEP]', '[CLS] This stuck pig of a movie flails limply between bizarre comedy and pallid horror. [SEP]', '[CLS] The film just might turn on many people to opera, in general, an art form at once visceral and spiritual, wonderfully vulgar and sublimely lofty -- and as emotionally grand as life. [SEP]', \"[CLS] The delicious trimmings... arrive early and stay late, filling nearly every minute... with a lighthearted glow, some impudent snickers, and a glorious dose of humankind's liberating ability to triumph over a Scrooge or two. [SEP]\", '[CLS] The inhospitability of the land emphasizes the spare precision of the narratives and helps to give them an atavistic power, as if they were tales that had been handed down since the beginning of time. [SEP]', \"[CLS] Even more baffling is that it's funny. [SEP]\", \"[CLS] Parker should be commended for taking a fresh approach to familiar material, but his determination to remain true to the original text leads him to adopt a somewhat mannered tone... that ultimately dulls the human tragedy at the story's core. [SEP]\", '[CLS] Hard, endearing, caring, warm. [SEP]', \"[CLS] I have no problem with ``difficult'' movies, or movies that ask the audience to meet them halfway and connect the dots instead of having things all spelled out. [SEP]\", '[CLS] The way Coppola professes his love for movies -- both colorful pop junk and the classics that unequivocally qualify as art -- is giddily entertaining. [SEP]', '[CLS] Both the crime story and the love story are unusual. [SEP]', \"[CLS] It's never a good sign when a film's star spends the entirety of the film in a coma. [SEP]\", '[CLS] A creaky staircase gothic. [SEP]', \"[CLS] If there's a way to effectively teach kids about the dangers of drugs, I think it's in projects like the (unfortunately R-rated) Paid. [SEP]\", \"[CLS] If you're a WWF fan, or you related to the people who watched the robots getting butchered in A.I., you'll probably like Rollerball. [SEP]\", '[CLS] Norton holds the film together. [SEP]', '[CLS] A breathtaking adventure for all ages, Spirit tells its poignant and uplifting story in a stunning fusion of music and images. [SEP]', \"[CLS] It won't bust your gut -- and it's not intended to -- it's merely a blandly cinematic surgical examination of what makes a joke a joke. [SEP]\", '[CLS] Largely a for-fans artifact. [SEP]', '[CLS] A movie so bad that it quickly enters the pantheon of wreckage that includes Battlefield Earth and Showgirls. [SEP]', \"[CLS] If you're over 25, have an IQ over 90, and have a driver's license, you should be able to find better entertainment. [SEP]\", '[CLS] A solid piece of journalistic work that draws a picture of a man for whom political expedience became a deadly foreign policy. [SEP]', '[CLS] The doofus-on-the-loose banter of Welcome to Collinwood has a cocky, after-hours loopiness to it. [SEP]', \"[CLS] It's the funniest American comedy since Graffiti Bridge. [SEP]\", '[CLS] Samuel Beckett applied to the Iranian voting process. [SEP]', '[CLS] A strangely compelling and brilliantly acted psychological drama. [SEP]', \"[CLS] Often gruelling and heartbreaking to witness, but Seldahl and Wollter's sterling performances raise this far above the level of the usual maudlin disease movie. [SEP]\", '[CLS] This enthralling documentary... is at once playful and haunting, an in-depth portrait of an iconoclastic artist who was fundamentally unknowable even to his closest friends. [SEP]', \"[CLS] I didn't laugh at the ongoing efforts of Cube, and his skinny buddy Mike Epps, to make like Laurel and Hardy'n the hood. [SEP]\", '[CLS] At its best when the guarded, resentful Betty and the manipulative yet needy Margot are front and center. [SEP]', '[CLS] Ford deserves to be remembered at Oscar time for crafting this wonderful portrait of a conflicted soldier. [SEP]', \"[CLS] That is essentially what's missing from Blackboards -- the sense of something bigger, some ultimate point. [SEP]\", \"[CLS] It's a bizarre curiosity memorable mainly for the way it fritters away its potentially interesting subject matter via a banal script, unimpressive acting and indifferent direction. [SEP]\", '[CLS] While obviously an extremely personal work, it remains inextricably stuck in an emotionally unavailable rut. [SEP]', '[CLS] A dim-witted and lazy spin-off of the Animal Planet documentary series, Crocodile Hunter is entertainment opportunism at its most glaring. [SEP]', '[CLS] The good is very, very good... The rest runs from mildly unimpressive to despairingly awful. [SEP]', \"[CLS] Methodical, measured, and gently tedious in its comedy, Secret Ballot is a purposefully reductive movie -- which may be why it's so successful at lodging itself in the brain. [SEP]\", '[CLS] One of the most exciting action films to come out of China in recent years. [SEP]', \"[CLS] Adam Sandler's Eight Crazy Nights grows on you -- like a rash. [SEP]\", '[CLS] The film feels formulaic, its plot and pacing typical Hollywood war-movie stuff, while the performances elicit more of a sense of deja vu than awe. [SEP]', '[CLS] ... pitiful, slapdash disaster. [SEP]', \"[CLS] As it stands, there's some fine sex onscreen, and some tense arguing, but not a whole lot more. [SEP]\", \"[CLS] It's neither as romantic nor as thrilling as it should be. [SEP]\", \"[CLS] Returning director Rob Minkoff... and screenwriter Bruce Joel Rubin... have done a fine job of updating White's dry wit to a new age. [SEP]\", \"[CLS] The Venezuelans say things like ``si, pretty much'' and ``por favor, go home'' when talking to Americans. [SEP]\", '[CLS] If you already like this sort of thing, this is that sort of thing all over again. [SEP]', '[CLS] An awful movie that will only satisfy the most emotionally malleable of filmgoers. [SEP]', '[CLS] This is an extraordinary film, not least because it is Japanese and yet feels universal. [SEP]', \"[CLS] Aptly named, this shimmering, beautifully costumed and filmed production doesn't work for me. [SEP]\", \"[CLS] If Borstal Boy isn't especially realistic, it is an engaging nostalgia piece. [SEP]\", \"[CLS] Griffiths proves she's that rare luminary who continually raises the standard of her profession. [SEP]\", '[CLS] The asylum material is gripping, as are the scenes of Jia with his family. [SEP]', \"[CLS] ... by the time it's done with us, Mira Nair's new movie has its audience giddy with the delight of discovery, of having been immersed in a foreign culture only to find that human nature is pretty much the same all over. [SEP]\", '[CLS] ... about as exciting to watch as two last-place basketball teams playing one another on the final day of the season. [SEP]', '[CLS] Girls gone wild and gone civil again [SEP]', \"[CLS] To say Analyze That is De Niro's best film since Meet the Parents sums up the sad state of his recent career. [SEP]\", '[CLS] Like being trapped inside a huge video game, where exciting, inane images keep popping past your head and the same illogical things keep happening over and over again. [SEP]', \"[CLS] `Enigma' is the kind of engaging historical drama that Hollywood appears to have given up on in favor of sentimental war movies in the vein of `We Were Soldiers.' [SEP]\", '[CLS] The Rock has a great presence but one battle after another is not the same as one battle followed by killer CGI effects. [SEP]', '[CLS] Visually sumptuous but intellectually stultifying. [SEP]', '[CLS] So young, so smart, such talent, such a wise ***. [SEP]', '[CLS] The problem is that for the most part, the film is deadly dull. [SEP]', '[CLS] A thinly veiled look at different aspects of Chinese life clashing with each other. [SEP]', '[CLS] An exhilarating experience. [SEP]', '[CLS] Its vision of that awkward age when sex threatens to overwhelm everything else is acute enough to make everyone who has been there squirm with recognition. [SEP]', '[CLS] Remarkably accessible and affecting. [SEP]', '[CLS] The climactic events are so well realized that you may forget all about the original conflict, just like the movie does. [SEP]', '[CLS] Distinctly sub-par... more likely to drown a viewer in boredom than to send any shivers down his spine. [SEP]', \"[CLS] Godard's ode to tackling life's wonderment is a rambling and incoherent manifesto about the vagueness of topical excess... In Praise of Love remains a ponderous and pretentious endeavor that's unfocused and tediously exasperating. [SEP]\", '[CLS] \"Shamelessly resorting to pee-related sight gags that might even cause Tom Green a grimace still, Myer\\'s energy and the silliness of it all eventually prevail.\" [SEP]', \"[CLS] We never truly come to care about the main characters and whether or not they'll wind up together, and Michele's spiritual quest is neither amusing nor dramatic enough to sustain interest. [SEP]\", \"[CLS] Most haunting about ``Fence'' is its conclusion, when we hear the ultimate fate of these girls and realize, much to our dismay, that this really did happen. [SEP]\", '[CLS] Bogdanovich taps deep into the Hearst mystique, entertainingly reenacting a historic scandal. [SEP]', \"[CLS] Peralta's mythmaking could have used some informed, adult hindsight. [SEP]\", \"[CLS] ``My god, I'm behaving like an idiot!'' [SEP]\", '[CLS] Devos and Cassel have tremendous chemistry -- their sexual and romantic tension, while never really vocalized, is palpable. [SEP]', '[CLS] As a girl-meets-girl romantic comedy, Kissing Jessica Steinis quirky, charming and often hilarious. [SEP]', \"[CLS] Gollum's `performance' is incredible! [SEP]\", '[CLS] ... a haunting vision, with images that seem more like disturbing hallucinations. [SEP]', \"[CLS] As a remake, it's a pale imitation. [SEP]\", '[CLS] Adults will certainly want to spend their time in the theater thinking up grocery lists and ways to tell their kids how not to act like Pinocchio. [SEP]', '[CLS] Not as distinctive or even as humorous as its needs to be to stand out, but it has clearly been made with affection and care. [SEP]', '[CLS] A generic family comedy unlikely to be appreciated by anyone outside the under-10 set. [SEP]', '[CLS] An amalgam of The Fugitive, Blade Runner, and Total Recall, only without much energy or tension. [SEP]', '[CLS] Everything its title implies, a standard-issue crime drama spat out from the Tinseltown assembly line. [SEP]', \"[CLS] This odd, poetic road movie, spiked by jolts of pop music, pretty much takes place in Morton's ever-watchful gaze -- and it's a tribute to the actress, and to her inventive director, that the journey is such a mesmerizing one. [SEP]\", \"[CLS] Co-writer/director Jonathan Parker's attempts to fashion a Brazil-like, hyper-real satire fall dreadfully short. [SEP]\", '[CLS] An amateurish, quasi-improvised acting exercise shot on ugly digital video. [SEP]', \"[CLS] ``The Kid Stays in the Picture'' is a great story, terrifically told by the man who wrote it but this Cliff Notes edition is a cheat. [SEP]\", '[CLS] A gratingly unfunny groaner littered with zero-dimensional, unlikable characters and hackneyed, threadbare comic setups. [SEP]', \"[CLS] While this gentle and affecting melodrama will have luvvies in raptures, it's far too slight and introspective to appeal to anything wider than a niche audience. [SEP]\", '[CLS] Griffin & Co. manage to be spectacularly outrageous. [SEP]', '[CLS] A profoundly stupid affair, populating its hackneyed and meanspirited storyline with cardboard characters and performers who value cash above credibility. [SEP]', '[CLS] Warm Water Under a Red Bridge is a quirky and poignant Japanese film that explores the fascinating connections between women, water, nature, and sexuality. [SEP]', \"[CLS] It isn't that Stealing Harvard is a horrible movie -- if only it were that grand a failure! [SEP]\", \"[CLS] It just doesn't have much else... especially in a moral sense. [SEP]\", '[CLS] Those unfamiliar with Mormon traditions may find The Singles Ward occasionally bewildering. [SEP]', \"[CLS] Viewed as a comedy, a romance, a fairy tale, or a drama, there's nothing remotely triumphant about this motion picture. [SEP]\", '[CLS] But the talented cast alone will keep you watching, as will the fight scenes. [SEP]', \"[CLS] It's solid and affecting and exactly as thought-provoking as it should be. [SEP]\", '[CLS] Thanks largely to Williams, all the interesting developments are processed in 60 minutes -- the rest is just an overexposed waste of film. [SEP]', \"[CLS] Cantet perfectly captures the hotel lobbies, two-lane highways, and roadside cafes that permeate Vincent's days [SEP]\", '[CLS] An important movie, a reminder of the power of film to move us and to make us examine our values. [SEP]', '[CLS] Too much of this well-acted but dangerously slow thriller feels like a preamble to a bigger, more complicated story, one that never materializes. [SEP]', '[CLS] A richly imagined and admirably mature work from a gifted director who definitely has something on his mind. [SEP]', '[CLS] The art direction is often exquisite, and the anthropomorphic animal characters are beautifully realized through clever makeup design, leaving one to hope that the eventual DVD release will offer subtitles and the original Italian-language soundtrack. [SEP]', \"[CLS] ... Jones, despite a definitely distinctive screen presence, just isn't able to muster for a movie that, its title notwithstanding, should have been a lot nastier if it wanted to fully capitalize on its lead's specific gifts. [SEP]\", \"[CLS] But what's nice is that there's a casual intelligence that permeates the script. [SEP]\", '[CLS] Wedding feels a bit anachronistic. [SEP]', '[CLS] An action/thriller of the finest kind, evoking memories of Day of the Jackal, The French Connection, and Heat. [SEP]', \"[CLS] This picture is murder by numbers, and as easy to be bored by as your ABC's, despite a few whopping shootouts. [SEP]\", '[CLS] Every individual will see the movie through the prism of his or her own beliefs and prejudices, but the one thing most will take away is the sense that peace is possible. [SEP]', '[CLS] Feels slight, as if it were an extended short, albeit one made by the smartest kids in class. [SEP]', \"[CLS] The picture doesn't know it's a comedy. [SEP]\", '[CLS] A classy item by a legend who may have nothing left to prove but still has the chops and drive to show how its done. [SEP]', '[CLS] Starts out mediocre, spirals downward, and thuds to the bottom of the pool with an utterly incompetent conclusion. [SEP]', '[CLS] The sort of movie that gives tastelessness a bad rap. [SEP]', '[CLS] Its engaging simplicity is driven by appealing leads. [SEP]', '[CLS] Fans of the TV series will be disappointed, and everyone else will be slightly bored. [SEP]', \"[CLS] It's a head-turner -- thoughtfully written, beautifully read and, finally, deeply humanizing. [SEP]\", '[CLS] \"Bray is completely at sea with nothing but a Savage Garden music video on his resume, he has no clue about making a movie.\" [SEP]', \"[CLS] It's not a particularly good film, but neither is it a monsterous one. [SEP]\", \"[CLS] Men in Black II achieves ultimate insignificance -- it's the sci-fi comedy spectacle as Whiffle-Ball epic. [SEP]\", '[CLS] Martyr gets royally screwed and comes back for more. [SEP]']\n"
     ]
    }
   ],
   "source": [
    "# manually add CLS and SEP\n",
    "\n",
    "########## The code below is from 'session04_intro-tokenization-transformers.ipynb' until the next dividing line.###################\n",
    "\n",
    "sentence_list = ['[CLS] ' + instance + ' [SEP]' for instance in sentence_list]\n",
    "print(sentence_list)"
   ]
  },
  {
   "cell_type": "code",
   "execution_count": 37,
   "id": "b8353721",
   "metadata": {},
   "outputs": [],
   "source": [
    "from typing import List, Tuple, Dict, Union\n",
    "\n",
    "def tokenize_data_new(\n",
    "    tokenizer: BertTokenizer, \n",
    "    data: List[str],\n",
    "    max_length: int = 60,\n",
    "    add_special_tokens: bool = True,\n",
    "    return_attention_mask: bool = True,\n",
    "    truncation: bool = True,\n",
    "    padding: Union[str, bool] = 'max_length',\n",
    ") -> Tuple[torch.tensor, torch.tensor, List[List[int]]]:\n",
    "    \n",
    "    input_ids, input_mask, word_ids = list(), list(), list()\n",
    "    \n",
    "    for instance in data:\n",
    "        encoded = tokenizer.encode_plus(\n",
    "            instance,\n",
    "            add_special_tokens=add_special_tokens,  \n",
    "            padding=padding,\n",
    "            max_length=max_length,\n",
    "            truncation=True,\n",
    "            return_attention_mask=return_attention_mask,  \n",
    "        )\n",
    "        input_ids.append(encoded['input_ids'])\n",
    "        input_mask.append(encoded['attention_mask'])\n",
    "        word_ids.append(encoded.word_ids())\n",
    "\n",
    "    # convert list of lists into tensor\n",
    "    input_ids = torch.tensor(input_ids)\n",
    "    input_mask = torch.tensor(input_mask)\n",
    "    \n",
    "    # the word ids first have to be converted to np array bc of the Nones\n",
    "    word_ids = torch.tensor(np.array(word_ids, dtype=np.float32))\n",
    "    \n",
    "    return input_ids, input_mask, word_ids"
   ]
  },
  {
   "cell_type": "code",
   "execution_count": 38,
   "id": "739dbff8",
   "metadata": {},
   "outputs": [],
   "source": [
    "batch_size = len(sentence_list)\n",
    "max_length = 45"
   ]
  },
  {
   "cell_type": "code",
   "execution_count": 39,
   "id": "331ef62c",
   "metadata": {},
   "outputs": [],
   "source": [
    "# tokenize the data\n",
    "sentence_input_ids, sentence_mask, sentence_word_ids = tokenize_data_new(\n",
    "    tokenizer=tokenizer,\n",
    "    data=sentence_list,\n",
    "    max_length=max_length,\n",
    "    add_special_tokens=False,  # because we already added them to our sentence strings\n",
    ")"
   ]
  },
  {
   "cell_type": "code",
   "execution_count": 40,
   "id": "66fd1986",
   "metadata": {},
   "outputs": [
    {
     "name": "stdout",
     "output_type": "stream",
     "text": [
      "input ids: \n",
      "tensor([[  101,  7534,  1037,  ...,     0,     0,     0],\n",
      "        [  101, 17950, 19275,  ...,     0,     0,     0],\n",
      "        [  101,  7852,  1010,  ...,     0,     0,     0],\n",
      "        ...,\n",
      "        [  101,  2009,  1005,  ...,     0,     0,     0],\n",
      "        [  101,  2273,  1999,  ...,     0,     0,     0],\n",
      "        [  101, 17216,  4152,  ...,     0,     0,     0]])\n",
      "\n",
      "attention mask: \n",
      "tensor([[1, 1, 1,  ..., 0, 0, 0],\n",
      "        [1, 1, 1,  ..., 0, 0, 0],\n",
      "        [1, 1, 1,  ..., 0, 0, 0],\n",
      "        ...,\n",
      "        [1, 1, 1,  ..., 0, 0, 0],\n",
      "        [1, 1, 1,  ..., 0, 0, 0],\n",
      "        [1, 1, 1,  ..., 0, 0, 0]])\n",
      "\n",
      "word ids:\n",
      "tensor([[0., 1., 2.,  ..., nan, nan, nan],\n",
      "        [0., 1., 2.,  ..., nan, nan, nan],\n",
      "        [0., 1., 2.,  ..., nan, nan, nan],\n",
      "        ...,\n",
      "        [0., 1., 2.,  ..., nan, nan, nan],\n",
      "        [0., 1., 2.,  ..., nan, nan, nan],\n",
      "        [0., 1., 2.,  ..., nan, nan, nan]])\n"
     ]
    }
   ],
   "source": [
    "print('input ids: ')\n",
    "print(sentence_input_ids)\n",
    "print('\\nattention mask: ')\n",
    "print(sentence_mask)\n",
    "print('\\nword ids:')\n",
    "print(sentence_word_ids)"
   ]
  },
  {
   "cell_type": "code",
   "execution_count": 41,
   "id": "f25ff5e6",
   "metadata": {},
   "outputs": [],
   "source": [
    "original_mask_instance1 = sentence_mask[0]\n",
    "original_input_ids_instance1 = sentence_input_ids[0]"
   ]
  },
  {
   "cell_type": "code",
   "execution_count": 42,
   "id": "0ec1b8e9",
   "metadata": {},
   "outputs": [
    {
     "name": "stdout",
     "output_type": "stream",
     "text": [
      "shape of the embeddings:  torch.Size([400, 45, 768])\n"
     ]
    }
   ],
   "source": [
    "# pipe the input ids through the embedding layer / get the pre-trained embeddings\n",
    "sentence_emb = embedding_layer(sentence_input_ids)\n",
    "print('shape of the embeddings: ', sentence_emb.shape)"
   ]
  },
  {
   "cell_type": "code",
   "execution_count": 43,
   "id": "fde63598",
   "metadata": {},
   "outputs": [],
   "source": [
    "# the pooling function\n",
    "\n",
    "def pooling_fn(\n",
    "    batch: torch.Tensor,  # shape bsz x seq len x emb dim\n",
    "    word_ids: List[List[int]],\n",
    "    pool_method: str = 'avg',  # 'avg', 'sum'\n",
    ") -> Tuple[torch.Tensor, torch.Tensor]:\n",
    "    \"\"\" \n",
    "    Function that takes as input a batch (not a single instance) and pools the sub-words in \n",
    "    each instance to word-level. Either average or sum pooling.\n",
    "    \"\"\"\n",
    "    # create an empty tensor to hold the merged embeddings, shape bsz x 0 x emb dim\n",
    "    merged_emb = torch.empty(sentence_emb.shape[0], 0, sentence_emb.shape[2])\n",
    "    \n",
    "    max_length = batch.shape[1]  # the sequence length\n",
    "    \n",
    "    # iterate through all possible word ids\n",
    "    for word_idx in range(max_length):\n",
    "        \n",
    "        # tensor of shape bsz x 1 x emb dim\n",
    "        # contains True if the word id is the current word idx (that we are looking at), False otherwise\n",
    "        # if a word was split into several sub-word tokens, all these sub-word tokens will consist of True\n",
    "        # so we know which ones to merge together\n",
    "        word_mask = (sentence_word_ids == word_idx).unsqueeze(2).repeat(1, 1, 768)  # bsz x seq len x emb dim \n",
    "        \n",
    "        if pool_method == 'avg':\n",
    "            # multiply the embeddings with the mask so only the subwords belonging to the same word (ID) remain\n",
    "                # then average them\n",
    "            pooled_word_emb = torch.mean(sentence_emb * word_mask, dim=1).unsqueeze(1)  # bsz x 1 x emb dim\n",
    "            \n",
    "        elif pool_method == 'sum':\n",
    "            # multiply the embeddings with the mask so only the subwords belonging to the same word (ID) remain\n",
    "                # then sum them\n",
    "            pooled_word_emb = torch.sum(sentence_emb * word_mask, dim=1).unsqueeze(1)  # bsz x 1 x emb dim\n",
    "            \n",
    "        else:\n",
    "            raise NotImplementedError('this kind of pooling has not been implemented.')\n",
    "        \n",
    "        # concatenate the pooled word embedding to the tensor containing all word embeddings for each sequence in the batch\n",
    "        merged_emb = torch.cat([merged_emb, pooled_word_emb], dim=1)\n",
    "      #  print(merged_emb.shape)\n",
    "    \n",
    "    # create the new attention mask, shape bsz x seq len\n",
    "    attention_mask = torch.sum(merged_emb, 2).bool().int()\n",
    "    \n",
    "    return merged_emb, attention_mask"
   ]
  },
  {
   "cell_type": "code",
   "execution_count": 44,
   "id": "64eff044",
   "metadata": {},
   "outputs": [],
   "source": [
    "pooled_embeddings, pooled_mask = pooling_fn(\n",
    "    batch=sentence_emb,\n",
    "    word_ids=sentence_word_ids,\n",
    ")"
   ]
  },
  {
   "cell_type": "code",
   "execution_count": 45,
   "id": "fb01c18b",
   "metadata": {},
   "outputs": [
    {
     "name": "stdout",
     "output_type": "stream",
     "text": [
      "torch.Size([400, 45, 768])\n",
      "torch.Size([400, 45, 768])\n"
     ]
    }
   ],
   "source": [
    "# the shape is still the same\n",
    "# compare with original embeddings\n",
    "print(sentence_emb.shape)\n",
    "print(pooled_embeddings.shape)"
   ]
  },
  {
   "cell_type": "code",
   "execution_count": 46,
   "id": "b5d01af9",
   "metadata": {},
   "outputs": [
    {
     "name": "stdout",
     "output_type": "stream",
     "text": [
      "[CLS] 1 [CLS] 1\n",
      "presents 1 Presents 1\n",
      "a 1 a 1\n",
      "good 1 good 1\n",
      "case 1 case 1\n",
      "while 1 while 1\n",
      "failing 1 failing 1\n",
      "to 1 to 1\n",
      "provide 1 provide 1\n",
      "a 1 a 1\n",
      "reason 1 reason 1\n",
      "for 1 for 1\n",
      "us 1 us 1\n",
      "to 1 to 1\n",
      "care 1 care 1\n",
      "beyond 1 beyond 1\n",
      "the 1 the 1\n",
      "very 1 very 1\n",
      "basic 1 basic 1\n",
      "di 1 dictums 1\n",
      "##ctum 1 of 1\n",
      "##s 1 human 1\n",
      "of 1 decency. 1\n",
      "human 1 [SEP] 1\n",
      "dec 1 [PAD] 1\n",
      "##ency 1 [PAD] 0\n",
      ". 1 [PAD] 0\n",
      "[SEP] 1 [PAD] 0\n",
      "[PAD] 0 [PAD] 0\n",
      "[PAD] 0 [PAD] 0\n",
      "[PAD] 0 [PAD] 0\n",
      "[PAD] 0 [PAD] 0\n",
      "[PAD] 0 [PAD] 0\n",
      "[PAD] 0 [PAD] 0\n",
      "[PAD] 0 [PAD] 0\n",
      "[PAD] 0 [PAD] 0\n",
      "[PAD] 0 [PAD] 0\n",
      "[PAD] 0 [PAD] 0\n",
      "[PAD] 0 [PAD] 0\n",
      "[PAD] 0 [PAD] 0\n",
      "[PAD] 0 [PAD] 0\n",
      "[PAD] 0 [PAD] 0\n",
      "[PAD] 0 [PAD] 0\n",
      "[PAD] 0 [PAD] 0\n",
      "[PAD] 0 [PAD] 0\n"
     ]
    }
   ],
   "source": [
    "# compare the first instance, where sub-word tokens were pooled into 1\n",
    "subword_tokens_instance1 = tokenizer.convert_ids_to_tokens(original_input_ids_instance1)\n",
    "words_instance1 = sentence_list[0].split() \n",
    "words_instance1 += ['[PAD]'] * (len(subword_tokens_instance1) - len(words_instance1))\n",
    "pooled_mask_instance1 = pooled_mask[0]\n",
    "\n",
    "for subword, orig_mask, word, new_mask in zip(\n",
    "    subword_tokens_instance1, original_mask_instance1, words_instance1, pooled_mask_instance1,\n",
    "):\n",
    "    print(subword, orig_mask.item(), word, new_mask.item())"
   ]
  },
  {
   "cell_type": "code",
   "execution_count": 47,
   "id": "9ac6eb66",
   "metadata": {},
   "outputs": [],
   "source": [
    "model_output = model(\n",
    "    input_ids=sentence_input_ids,\n",
    "    attention_mask=sentence_mask,\n",
    ")"
   ]
  },
  {
   "cell_type": "code",
   "execution_count": 48,
   "id": "1c42c2bf",
   "metadata": {},
   "outputs": [
    {
     "name": "stdout",
     "output_type": "stream",
     "text": [
      "2\n"
     ]
    }
   ],
   "source": [
    "print(len(model_output))  # contains last hidden state and pooler output"
   ]
  },
  {
   "cell_type": "code",
   "execution_count": 49,
   "id": "2aa153e1",
   "metadata": {},
   "outputs": [
    {
     "name": "stdout",
     "output_type": "stream",
     "text": [
      "torch.Size([400, 768])\n"
     ]
    }
   ],
   "source": [
    "pooler_output = model_output.pooler_output   # or model_output[1]\n",
    "print(pooler_output.shape)  # CLS token of every instance in the batch\n",
    "\n",
    "## pooler output at word level\n",
    "\n",
    "################# The code above is from 'session04_intro-tokenization-transformers.ipynb' ###################"
   ]
  },
  {
   "cell_type": "code",
   "execution_count": 50,
   "id": "b6db525b",
   "metadata": {},
   "outputs": [],
   "source": [
    "labels_tensor = torch.tensor(labels)"
   ]
  },
  {
   "cell_type": "code",
   "execution_count": 78,
   "id": "f775d902",
   "metadata": {},
   "outputs": [
    {
     "name": "stdout",
     "output_type": "stream",
     "text": [
      "Accuracy: 82.50%\n",
      "Precision: 0.90\n",
      "Recall: 0.87\n",
      "F1 Score: 0.88\n"
     ]
    }
   ],
   "source": [
    "####\n",
    "import numpy as np\n",
    "from sklearn.model_selection import train_test_split\n",
    "from sklearn.svm import SVC\n",
    "from sklearn.metrics import accuracy_score\n",
    "\n",
    "pooler_output_np = pooler_output.detach().numpy()\n",
    "labels_np = labels_tensor.detach().numpy()\n",
    "\n",
    "# Split the data into training and testing sets\n",
    "X_train, X_test, y_train, y_test = train_test_split(pooler_output_np, labels_np, test_size=0.2, random_state=42)\n",
    "\n",
    "# SVM classifier\n",
    "svm_classifier = SVC(kernel='linear', C=1.0)\n",
    "\n",
    "# Train the SVM classifier\n",
    "svm_classifier.fit(X_train, y_train)\n",
    "\n",
    "# Make predictions on the test set\n",
    "predictions = svm_classifier.predict(X_test)\n",
    "\n",
    "\n",
    "# Evaluate the model\n",
    "accuracy = accuracy_score(y_test, predictions)\n",
    "precision = precision_score(y_test, predictions)\n",
    "recall = recall_score(y_test, predictions)\n",
    "f1 = f1_score(y_test, predictions)\n",
    "\n",
    "print(\"Accuracy: {:.2f}%\".format(accuracy * 100))\n",
    "print(\"Precision: {:.2f}\".format(precision))\n",
    "print(\"Recall: {:.2f}\".format(recall))\n",
    "print(\"F1 Score: {:.2f}\".format(f1))\n"
   ]
  },
  {
   "cell_type": "code",
   "execution_count": 79,
   "id": "5947afc5",
   "metadata": {},
   "outputs": [
    {
     "data": {
      "image/png": "[encoded data removed]",
      "text/plain": [
       "<Figure size 800x600 with 2 Axes>"
      ]
     },
     "metadata": {},
     "output_type": "display_data"
    }
   ],
   "source": [
    "from sklearn.metrics import confusion_matrix\n",
    "import seaborn as sns\n",
    "import matplotlib.pyplot as plt\n",
    "\n",
    "cm = confusion_matrix(y_test, predictions)\n",
    "\n",
    "# Confusion Matrix\n",
    "plt.figure(figsize=(8, 6))\n",
    "sns.heatmap(cm, annot=True, fmt=\"d\", cmap=\"Blues\", annot_kws={\"size\": 16})\n",
    "plt.title(\"Confusion Matrix: baseline\")\n",
    "plt.xlabel(\"Predicted Labels\")\n",
    "plt.ylabel(\"True Labels\")\n",
    "plt.show()"
   ]
  },
  {
   "cell_type": "code",
   "execution_count": 72,
   "id": "fafe3bd8",
   "metadata": {},
   "outputs": [
    {
     "name": "stdout",
     "output_type": "stream",
     "text": [
      "torch.Size([400, 1])\n"
     ]
    }
   ],
   "source": [
    "import csv\n",
    "\n",
    "filename = 'MFD.csv'\n",
    "data = []\n",
    "\n",
    "with open(filename, 'r', newline='', encoding='utf-8-sig') as csvfile:\n",
    "    csvreader = csv.reader(csvfile)\n",
    "    \n",
    "    for row in csvreader:\n",
    "        index, value = int(row[0]), int(row[1])\n",
    "        data.append((index, value))\n",
    "\n",
    "sum_dict = {}\n",
    "\n",
    "for index, value in data:\n",
    "    if index in sum_dict:\n",
    "        sum_dict[index] += value\n",
    "    else:\n",
    "        sum_dict[index] = value\n",
    "\n",
    "ET_data = list(sum_dict.values())\n",
    "\n",
    "ET_tensor = torch.tensor(ET_data)\n",
    "\n",
    "ET_tensor = ET_tensor.view(400, 1)\n",
    "\n",
    "print(ET_tensor.shape)"
   ]
  },
  {
   "cell_type": "code",
   "execution_count": 73,
   "id": "0237c89b",
   "metadata": {},
   "outputs": [
    {
     "data": {
      "text/plain": [
       "torch.Size([400, 769])"
      ]
     },
     "execution_count": 73,
     "metadata": {},
     "output_type": "execute_result"
    }
   ],
   "source": [
    "new_pooler_output = torch.cat((pooler_output, ET_tensor), dim=1)\n",
    "new_pooler_output.shape"
   ]
  },
  {
   "cell_type": "code",
   "execution_count": 80,
   "id": "053fe6a3",
   "metadata": {},
   "outputs": [
    {
     "name": "stdout",
     "output_type": "stream",
     "text": [
      "Accuracy: 78.75%\n",
      "Precision: 0.89\n",
      "Recall: 0.82\n",
      "F1 Score: 0.85\n"
     ]
    }
   ],
   "source": [
    "####\n",
    "import numpy as np\n",
    "from sklearn.model_selection import train_test_split\n",
    "from sklearn.svm import SVC\n",
    "from sklearn.metrics import accuracy_score, precision_score, recall_score, f1_score\n",
    "\n",
    "new_pooler_output_np = new_pooler_output.detach().numpy()\n",
    "\n",
    "# Split the data into training and testing sets\n",
    "X_train, X_test, y_train, y_test = train_test_split(new_pooler_output_np, labels_np, test_size=0.2, random_state=42)\n",
    "\n",
    "# Initialize SVM classifier\n",
    "svm_classifier = SVC(kernel='linear', C=1.0)\n",
    "\n",
    "# Train the SVM classifier\n",
    "svm_classifier.fit(X_train, y_train)\n",
    "\n",
    "# Make predictions on the test set\n",
    "predictions = svm_classifier.predict(X_test)\n",
    "\n",
    "# Evaluate the model\n",
    "accuracy = accuracy_score(y_test, predictions)\n",
    "precision = precision_score(y_test, predictions)\n",
    "recall = recall_score(y_test, predictions)\n",
    "f1 = f1_score(y_test, predictions)\n",
    "\n",
    "print(\"Accuracy: {:.2f}%\".format(accuracy * 100))\n",
    "print(\"Precision: {:.2f}\".format(precision))\n",
    "print(\"Recall: {:.2f}\".format(recall))\n",
    "print(\"F1 Score: {:.2f}\".format(f1))"
   ]
  },
  {
   "cell_type": "code",
   "execution_count": 81,
   "id": "3761248e",
   "metadata": {},
   "outputs": [
    {
     "data": {
      "image/png": "[encoded data removed]",
      "text/plain": [
       "<Figure size 800x600 with 2 Axes>"
      ]
     },
     "metadata": {},
     "output_type": "display_data"
    }
   ],
   "source": [
    "from sklearn.metrics import confusion_matrix\n",
    "import seaborn as sns\n",
    "import matplotlib.pyplot as plt\n",
    "\n",
    "cm = confusion_matrix(y_test, predictions)\n",
    "\n",
    "# Confusion Matrix\n",
    "plt.figure(figsize=(8, 6))\n",
    "sns.heatmap(cm, annot=True, fmt=\"d\", cmap=\"Blues\", annot_kws={\"size\": 16})\n",
    "plt.title(\"Confusion Matrix: enhanced\")\n",
    "plt.xlabel(\"Predicted Labels\")\n",
    "plt.ylabel(\"True Labels\")\n",
    "plt.show()\n"
   ]
  },
  {
   "cell_type": "code",
   "execution_count": null,
   "id": "e1329233",
   "metadata": {},
   "outputs": [],
   "source": []
  }
 ],
 "metadata": {
  "kernelspec": {
   "display_name": "Python 3 (ipykernel)",
   "language": "python",
   "name": "python3"
  },
  "language_info": {
   "codemirror_mode": {
    "name": "ipython",
    "version": 3
   },
   "file_extension": ".py",
   "mimetype": "text/x-python",
   "name": "python",
   "nbconvert_exporter": "python",
   "pygments_lexer": "ipython3",
   "version": "3.11.5"
  }
 },
 "nbformat": 4,
 "nbformat_minor": 5
}
